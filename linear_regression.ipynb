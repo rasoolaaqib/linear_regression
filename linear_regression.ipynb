{
 "cells": [
  {
   "cell_type": "markdown",
   "metadata": {
    "id": "_oEc-UinfTMZ"
   },
   "source": [
    "# Linear Regression"
   ]
  },
  {
   "cell_type": "code",
   "execution_count": 2,
   "metadata": {
    "id": "NRvGrpdQfTMa"
   },
   "outputs": [],
   "source": [
    "import os\n",
    "import numpy as np\n",
    "from matplotlib import pyplot\n",
    "import pandas as pd\n",
    "%matplotlib inline"
   ]
  },
  {
   "cell_type": "markdown",
   "metadata": {
    "id": "EzI_Acg6fTMe"
   },
   "source": [
    "## Linear Regression with one variable"
   ]
  },
  {
   "cell_type": "markdown",
   "metadata": {
    "id": "ev0yPFqnfTMf"
   },
   "source": [
    "### Load the dataset\n",
    "\n",
    "The file `Data/ex1data.txt` contains the dataset for our linear regression problem. The first column is the population of a city (in 10,000s) and the second column is the profit of a food truck in that city (in $10,000s). A negative value for profit indicates a loss. \n",
    "The dataset is loaded from the data file into the variables `X` and `Y`."
   ]
  },
  {
   "cell_type": "code",
   "execution_count": 11,
   "metadata": {},
   "outputs": [
    {
     "data": {
      "text/plain": [
       "'/Data/ex1data.txt'"
      ]
     },
     "execution_count": 11,
     "metadata": {},
     "output_type": "execute_result"
    }
   ],
   "source": [
    "os.path.join('Data', 'Data/ex1data.txt')"
   ]
  },
  {
   "cell_type": "code",
   "execution_count": 13,
   "metadata": {
    "id": "9xgTBNSxfTMf"
   },
   "outputs": [],
   "source": [
    "data = np.loadtxt('Data/ex1data.txt', delimiter=',')\n",
    "X, Y = data[:, 0], data[:, 1]"
   ]
  },
  {
   "cell_type": "markdown",
   "metadata": {
    "id": "_i2m928FfTMj"
   },
   "source": [
    "### Plot the dataset\n"
   ]
  },
  {
   "cell_type": "code",
   "execution_count": 14,
   "metadata": {
    "colab": {
     "base_uri": "https://localhost:8080/",
     "height": 297
    },
    "id": "x-74VcIwfTMk",
    "outputId": "13c7c26a-40f0-4cfe-bfe0-fb9e532179bf"
   },
   "outputs": [
    {
     "data": {
      "text/plain": [
       "Text(0.5, 0, 'Population of City in 10,000s')"
      ]
     },
     "execution_count": 14,
     "metadata": {},
     "output_type": "execute_result"
    },
    {
     "data": {
      "image/png": "[encoded data removed]",
      "text/plain": [
       "<Figure size 432x288 with 1 Axes>"
      ]
     },
     "metadata": {
      "needs_background": "light"
     },
     "output_type": "display_data"
    }
   ],
   "source": [
    "pyplot.plot(X, Y, 'ro', ms=10, mec='k')\n",
    "pyplot.ylabel('Profit in $10,000')\n",
    "pyplot.xlabel('Population of City in 10,000s')"
   ]
  },
  {
   "cell_type": "markdown",
   "metadata": {
    "id": "s9i2R2uvfTMn"
   },
   "source": [
    "### Learn the parameters"
   ]
  },
  {
   "cell_type": "code",
   "execution_count": 15,
   "metadata": {
    "id": "kgNrK-oIfTMo"
   },
   "outputs": [],
   "source": [
    "def predict(x, theta0, theta1):\n",
    "    h_x = 0.0\n",
    "    h_x = theta0 + theta1*x\n",
    "    return h_x"
   ]
  },
  {
   "cell_type": "code",
   "execution_count": 16,
   "metadata": {
    "colab": {
     "base_uri": "https://localhost:8080/"
    },
    "id": "rlcJqwrgfTMs",
    "outputId": "a293faff-0bdf-4d46-ca7c-ef129ff22810"
   },
   "outputs": [
    {
     "name": "stdout",
     "output_type": "stream",
     "text": [
      "With x = 2, theta0 = 1.0, theta1 = 1.0\n",
      "Predicted Hypothesis h(x) = 3.00\n",
      "Expected hypothesis h(x) = 3.00\n",
      "\n"
     ]
    }
   ],
   "source": [
    "h_x = predict(x=2, theta0=1.0, theta1=1.0)\n",
    "print('With x = 2, theta0 = 1.0, theta1 = 1.0\\nPredicted Hypothesis h(x) = %.2f' % h_x)\n",
    "print(\"Expected hypothesis h(x) = 3.00\\n\")"
   ]
  },
  {
   "cell_type": "code",
   "execution_count": 18,
   "metadata": {
    "id": "_yZb_B3OfTMv"
   },
   "outputs": [],
   "source": [
    "def computeCost(X, Y, theta0, theta1):\n",
    "    m = Y.size\n",
    "    J = 0\n",
    "    sum = 0;\n",
    "    for i in range(0,m):\n",
    "          sum += (predict(X[i],theta0,theta1)-Y[i])**2\n",
    "    J= (1/(2*m))*sum\n",
    "    return J"
   ]
  },
  {
   "cell_type": "code",
   "execution_count": 9,
   "metadata": {
    "colab": {
     "base_uri": "https://localhost:8080/"
    },
    "id": "odnU8_uvfTM1",
    "outputId": "5e990467-f535-422f-c652-38691945f479"
   },
   "outputs": [
    {
     "name": "stdout",
     "output_type": "stream",
     "text": [
      "With theta0 = 1.0, theta1 = 1.0\n",
      "Predicted cost J = 10.27\n",
      "Expected cost J = 10.27\n",
      "\n"
     ]
    }
   ],
   "source": [
    "J = computeCost(X, Y, theta0=1.0, theta1=1.0)\n",
    "print('With theta0 = 1.0, theta1 = 1.0\\nPredicted cost J = %.2f' % J)\n",
    "print(\"Expected cost J = 10.27\\n\")"
   ]
  },
  {
   "cell_type": "code",
   "execution_count": 19,
   "metadata": {
    "id": "OxbQeLVIfTM4"
   },
   "outputs": [],
   "source": [
    "def gradientDescent(X, Y, alpha, n_epoch):\n",
    "    m = Y.size  # number of training examples\n",
    "    J = list()  # list to store cost\n",
    "\n",
    "    theta0 = 0.0\n",
    "    theta1 = 0.0\n",
    "    \n",
    "    for epoch in range(n_epoch):\n",
    "        sum0 = 0\n",
    "        sum1 =0\n",
    "        for i in range(m):\n",
    "            sum0 += (predict(X[i], theta0, theta1)-Y[i])\n",
    "            sum1 += (predict(X[i], theta0, theta1)-Y[i])*X[i]\n",
    "        theta0 = theta0 - (alpha/m)*sum0\n",
    "        theta1 = theta1 - (alpha/m)*sum1\n",
    "        J.append(computeCost(X, Y, theta0, theta1))\n",
    "    return theta0, theta1, J"
   ]
  },
  {
   "cell_type": "code",
   "execution_count": 21,
   "metadata": {
    "colab": {
     "base_uri": "https://localhost:8080/"
    },
    "id": "aqpk4yBufTM9",
    "outputId": "833ee46b-5406-4b23-c4fe-4ec6df38b427"
   },
   "outputs": [
    {
     "name": "stdout",
     "output_type": "stream",
     "text": [
      "Predicted theta0 = -3.6303, theta1 = 1.1664, cost = 4.4834\n",
      "Expected theta0 = -3.6303, theta1 = 1.1664, cost = 4.4834\n"
     ]
    }
   ],
   "source": [
    "n_epoch = 1500\n",
    "alpha = 0.01\n",
    "\n",
    "theta0, theta1, J = gradientDescent(X ,Y, alpha, n_epoch)\n",
    "print('Predicted theta0 = %.4f, theta1 = %.4f, cost = %.4f' % (theta0, theta1, J[-1]))\n",
    "print('Expected theta0 = -3.6303, theta1 = 1.1664, cost = 4.4834')"
   ]
  },
  {
   "cell_type": "markdown",
   "metadata": {
    "id": "sKuCAV1DfTNA"
   },
   "source": [
    "### Plot the linear fit\n",
    "\n",
    "Using our learned parameters we plot the linear fit."
   ]
  },
  {
   "cell_type": "code",
   "execution_count": 22,
   "metadata": {
    "colab": {
     "base_uri": "https://localhost:8080/",
     "height": 297
    },
    "id": "_lZimHEpfTNC",
    "outputId": "38727f23-e6a7-466f-f771-89462735d474"
   },
   "outputs": [
    {
     "data": {
      "text/plain": [
       "<matplotlib.legend.Legend at 0x280ca293100>"
      ]
     },
     "execution_count": 22,
     "metadata": {},
     "output_type": "execute_result"
    },
    {
     "data": {
      "image/png": "[encoded data removed]",
      "text/plain": [
       "<Figure size 432x288 with 1 Axes>"
      ]
     },
     "metadata": {
      "needs_background": "light"
     },
     "output_type": "display_data"
    }
   ],
   "source": [
    "h_x = list()\n",
    "for x in X:\n",
    "    h_x.append(predict(x, theta0, theta1))\n",
    "pyplot.plot(X, Y, 'ro', ms=10, mec='k')\n",
    "pyplot.ylabel('Profit in $10,000')\n",
    "pyplot.xlabel('Population of City in 10,000s')\n",
    "pyplot.plot(X, h_x, '-')\n",
    "pyplot.legend(['Training data', 'Linear regression'])"
   ]
  },
  {
   "cell_type": "markdown",
   "metadata": {
    "id": "ryGL_k_bfTNF"
   },
   "source": [
    "### Making predictions"
   ]
  },
  {
   "cell_type": "code",
   "execution_count": 23,
   "metadata": {
    "colab": {
     "base_uri": "https://localhost:8080/"
    },
    "id": "wOzc5mQofTNG",
    "outputId": "d07db743-719c-42df-a6d2-f851d6cb4eb7"
   },
   "outputs": [
    {
     "name": "stdout",
     "output_type": "stream",
     "text": [
      "For population = 40,000, predicted profit = $10351.58\n",
      "For population = 65,000, predicted profit = $39510.64\n"
     ]
    }
   ],
   "source": [
    "print('For population = 40,000, predicted profit = $%.2f' % (predict(4, theta0, theta1)*10000))\n",
    "print('For population = 65,000, predicted profit = $%.2f' % (predict(6.5, theta0, theta1)*10000))"
   ]
  },
  {
   "cell_type": "markdown",
   "metadata": {
    "id": "NRn-pxJjfTNK"
   },
   "source": [
    "## Multivariate Linear Regression\n",
    "\n",
    "The dataset is loaded from the data files into the variables `train_X`, `train_Y`, `test_X` and `test_Y`."
   ]
  },
  {
   "cell_type": "code",
   "execution_count": 25,
   "metadata": {
    "id": "SiFr6lTzfTNK"
   },
   "outputs": [],
   "source": [
    "train_X = np.loadtxt('Data/ex2traindata.txt')\n",
    "train_Y = np.loadtxt('Data/ex2trainlabels.txt')\n",
    "test_X = np.loadtxt('Data/ex2testdata.txt')\n",
    "test_Y = np.loadtxt('Data/ex2testlabels.txt')"
   ]
  },
  {
   "cell_type": "code",
   "execution_count": 26,
   "metadata": {
    "id": "8moKAzNTLd8S"
   },
   "outputs": [],
   "source": [
    "# Normalizing the features\n",
    "def normalize(X):\n",
    "  m = X[0].size\n",
    "  n_X = X.sub(mean_X_train,axis=1)\n",
    "  n_X = n_X.divide(std_X_train,axis=1)\n",
    "  return n_X"
   ]
  },
  {
   "cell_type": "code",
   "execution_count": 27,
   "metadata": {
    "id": "K4YkjByKkEjI"
   },
   "outputs": [],
   "source": [
    "#adding x0 to our dataframe and renaming\n",
    "def add_x0(X):\n",
    "  x0 = np.ones(m)\n",
    "  n_X = X\n",
    "  n_X.insert(0,13,x0)\n",
    "  n_X.columns = [0,1,2,3,4,5,6,7,8,9,10,11,12,13]\n",
    "  return n_X"
   ]
  },
  {
   "cell_type": "code",
   "execution_count": 28,
   "metadata": {
    "id": "M11plOaK0iTV"
   },
   "outputs": [],
   "source": [
    "def m_predict(T,X):\n",
    "  h=0.0\n",
    "  h = np.matmul(T,X)\n",
    "  return h"
   ]
  },
  {
   "cell_type": "code",
   "execution_count": 29,
   "metadata": {
    "id": "OjvmSPzwI2DZ"
   },
   "outputs": [],
   "source": [
    "def m_cost(T,X,Y):\n",
    "  sum = 0.0\n",
    "  J = 0.0\n",
    "  for i in range(m):\n",
    "    sum += (m_predict(T,X[i])-Y[i])**2\n",
    "  J = (1/(2*m))*sum\n",
    "  return J"
   ]
  },
  {
   "cell_type": "code",
   "execution_count": 30,
   "metadata": {
    "id": "wZA9wlwmLAfP"
   },
   "outputs": [],
   "source": [
    "def m_gradientDescent(X,Y,alpha,n_epoch):\n",
    "  #m = Y.size\n",
    "  #n = X[0].size\n",
    "  Theta = np.array(np.zeros(n+1))\n",
    "  J = list()  \n",
    "  for epoch in range(n_epoch):\n",
    "    for y in range(len(Theta)):\n",
    "      sum = 0.0\n",
    "      for i in range(m):\n",
    "        sum += (m_predict(Theta,X[i])-Y[i])*X[i][y]\n",
    "      #print(y)\n",
    "      Theta[y] = Theta[y] - (alpha/m)*sum\n",
    "      #print(\"Theta= \",Theta)\n",
    "    a = m_cost(Theta,X,Y)\n",
    "    J.append(a)\n",
    "    #print(J[-1])\n",
    "  return Theta, J"
   ]
  },
  {
   "cell_type": "code",
   "execution_count": 31,
   "metadata": {
    "id": "B2kXcPkk8FyB"
   },
   "outputs": [],
   "source": [
    "#converting to data frame\n",
    "X_train=pd.DataFrame(train_X)\n",
    "mean_X_train = X_train.mean()\n",
    "std_X_train = X_train.std()"
   ]
  },
  {
   "cell_type": "code",
   "execution_count": 32,
   "metadata": {
    "id": "6qXInL4LMN_Q"
   },
   "outputs": [],
   "source": [
    "m = train_Y.size\n",
    "n = train_X[0].size\n",
    "n_X_train = normalize(X_train)\n",
    "n_X_train = add_x0(n_X_train)"
   ]
  },
  {
   "cell_type": "code",
   "execution_count": 33,
   "metadata": {
    "id": "466zHnPYR_My"
   },
   "outputs": [],
   "source": [
    "alpha = 0.01\n",
    "n_epoch = 3000\n",
    "T, J = m_gradientDescent(n_X_train.values,train_Y,alpha,n_epoch)"
   ]
  },
  {
   "cell_type": "code",
   "execution_count": 34,
   "metadata": {
    "colab": {
     "base_uri": "https://localhost:8080/",
     "height": 296
    },
    "id": "n67LT5Omb42K",
    "outputId": "7e1e4442-63fa-470e-d6c8-c86dc5627475"
   },
   "outputs": [
    {
     "name": "stdout",
     "output_type": "stream",
     "text": [
      "Minimum Cost of training data:  11.012068758250992\n"
     ]
    },
    {
     "data": {
      "image/png": "[encoded data removed]",
      "text/plain": [
       "<Figure size 432x288 with 1 Axes>"
      ]
     },
     "metadata": {
      "needs_background": "light"
     },
     "output_type": "display_data"
    }
   ],
   "source": [
    "pyplot.plot(J)\n",
    "pyplot.xlabel(\"No. of iterations\")\n",
    "pyplot.ylabel(\"Cost (J)\")\n",
    "print(\"Minimum Cost of training data: \",J[-1])"
   ]
  },
  {
   "cell_type": "code",
   "execution_count": 35,
   "metadata": {
    "id": "Pc08rRaGNo1v"
   },
   "outputs": [],
   "source": [
    "X_test = pd.DataFrame(test_X)\n",
    "m = test_Y.size\n",
    "n = test_X[0].size\n",
    "n_X_test = normalize(X_test)\n",
    "n_X_test = add_x0(n_X_test)"
   ]
  },
  {
   "cell_type": "code",
   "execution_count": 36,
   "metadata": {
    "id": "_ZdPYIMpF1tb"
   },
   "outputs": [],
   "source": [
    "#Gradient Descent on test data\n",
    "T_test, J_test = m_gradientDescent(n_X_test.values,test_Y,alpha,n_epoch)"
   ]
  },
  {
   "cell_type": "code",
   "execution_count": 37,
   "metadata": {
    "colab": {
     "base_uri": "https://localhost:8080/",
     "height": 312
    },
    "id": "gRy3PEBiF1hE",
    "outputId": "17a54e1a-d7b7-4e84-adcc-39a408799ae5"
   },
   "outputs": [
    {
     "name": "stdout",
     "output_type": "stream",
     "text": [
      "Minimum Cost for test data:  7.641458840575162\n"
     ]
    },
    {
     "data": {
      "image/png": "[encoded data removed]",
      "text/plain": [
       "<Figure size 432x288 with 1 Axes>"
      ]
     },
     "metadata": {
      "needs_background": "light"
     },
     "output_type": "display_data"
    }
   ],
   "source": [
    "#plotting costs for test data\n",
    "pyplot.plot(J_test)\n",
    "pyplot.title(\"For Test Data\")\n",
    "pyplot.xlabel(\"No. of iterations\")\n",
    "pyplot.ylabel(\"Cost (J)\")\n",
    "print(\"Minimum Cost for test data: \",J_test[-1])"
   ]
  },
  {
   "cell_type": "markdown",
   "metadata": {
    "id": "H_Ktn_VQfTNR"
   },
   "source": [
    "## Regularized Linear Regression"
   ]
  },
  {
   "cell_type": "code",
   "execution_count": 38,
   "metadata": {
    "id": "MDWG4thffTNS"
   },
   "outputs": [],
   "source": [
    "from sklearn.linear_model import LinearRegression\n",
    "from sklearn.linear_model import Ridge\n",
    "from sklearn.linear_model import Lasso\n",
    "from sklearn.linear_model import ElasticNet\n",
    "from sklearn.metrics import mean_squared_error"
   ]
  },
  {
   "cell_type": "code",
   "execution_count": 39,
   "metadata": {
    "id": "Xz_tChnIlYUf"
   },
   "outputs": [],
   "source": [
    "n_X_train = pd.DataFrame(train_X) #converting train data to DataFrame\n",
    "n_X_test = pd.DataFrame(test_X)   #converting test data to DataFrame\n",
    "#Getting mean and standard deviation from train data\n",
    "mean_X_train = n_X_train.mean()\n",
    "std_X_train = n_X_train.std()\n",
    "#Normalizing both test and train data using normalize function of part 2\n",
    "n_X_train = normalize(n_X_train)  \n",
    "n_X_test = normalize(n_X_test)"
   ]
  },
  {
   "cell_type": "code",
   "execution_count": 40,
   "metadata": {
    "colab": {
     "base_uri": "https://localhost:8080/"
    },
    "id": "jUzoJvw9fTNW",
    "outputId": "75f7d45a-3c01-4ffc-c40a-556d7daaaf7a"
   },
   "outputs": [
    {
     "name": "stdout",
     "output_type": "stream",
     "text": [
      "MSE of Linear Regression:  23.195599256422977\n"
     ]
    }
   ],
   "source": [
    "''' Start your code of part 3 from here, add the new code cells as per your requirement. '''\n",
    "#using normalized datasets from part 2, running part 2 before part 3\n",
    "LR = LinearRegression().fit(n_X_train.values,train_Y)\n",
    "test_predict = LR.predict(n_X_test)\n",
    "print(\"MSE of Linear Regression: \",mean_squared_error(test_Y,test_predict))"
   ]
  },
  {
   "cell_type": "code",
   "execution_count": 41,
   "metadata": {
    "colab": {
     "base_uri": "https://localhost:8080/",
     "height": 516
    },
    "id": "dor20MsvfTNc",
    "outputId": "19b387a2-baab-425a-e74f-987e390b5ebd"
   },
   "outputs": [
    {
     "name": "stdout",
     "output_type": "stream",
     "text": [
      "For alpha  1  the loss =  23.105267829056213\n",
      "For alpha  0.01  the loss =  23.194660768408074\n",
      "For alpha  0.1291549665014884  the loss =  23.183535148128193\n",
      "For alpha  1.6681005372000592  the loss =  23.048590432331352\n",
      "For alpha  21.544346900318846  the loss =  22.07857092224457\n",
      "For alpha  278.2559402207126  the loss =  25.44557837511633\n",
      "For alpha  3593.813663804626  the loss =  56.90913589303863\n",
      "For alpha  46415.88833612782  the loss =  80.08267146570739\n",
      "For alpha  599484.2503189421  the loss =  83.41230066829472\n",
      "For alpha  7742636.826811277  the loss =  83.68762998726181\n",
      "For alpha  100000000.0  the loss =  83.70906005469314\n",
      "Minimum Loss\n",
      "Alpha ( 21.544346900318846 ) has minimum loss of 22.07857092224457\n"
     ]
    },
    {
     "data": {
      "image/png": "[encoded data removed]",
      "text/plain": [
       "<Figure size 432x288 with 1 Axes>"
      ]
     },
     "metadata": {
      "needs_background": "light"
     },
     "output_type": "display_data"
    }
   ],
   "source": [
    "#For RIDGE\n",
    "MSE = []\n",
    "ridge = Ridge(alpha=1).fit(n_X_train.values,train_Y)\n",
    "test_predict = ridge.predict(n_X_test)\n",
    "a = mean_squared_error(test_predict,test_Y)\n",
    "MSE.append(a)\n",
    "print(\"For alpha \",1,\" the loss = \",a)\n",
    "\n",
    "al = np.logspace(-2,8,10)\n",
    "ridge_learned_para = []\n",
    "for x in al:\n",
    "  ridge = Ridge(alpha=x).fit(n_X_train.values,train_Y)\n",
    "  test_predict = ridge.predict(n_X_test)\n",
    "  a = mean_squared_error(test_predict,test_Y)\n",
    "  MSE.append(a)\n",
    "  print(\"For alpha \",x,\" the loss = \",a)\n",
    "  ridge_learned_para.append(ridge.coef_)\n",
    "\n",
    "#Plotting regularization coefficients with learned parameters θ\n",
    "ax = pyplot.gca()\n",
    "ax.plot(np.log(al),ridge_learned_para)\n",
    "#ax.set_xscale('log')\n",
    "pyplot.xlabel('Log Alpha')\n",
    "pyplot.ylabel('Learned Parameters (θ)')\n",
    "pyplot.title('Alpha vs Learned Parameters for Ridge')\n",
    "\n",
    "#Ouput minimum loss\n",
    "min_loss = MSE[0]\n",
    "min_index = 0\n",
    "for i,x in enumerate(MSE):\n",
    "  if x<min_loss:\n",
    "    min_loss = x\n",
    "    min_index = i\n",
    "print(\"Minimum Loss\\nAlpha (\",al[min_index-1],\") has minimum loss of\",min_loss)"
   ]
  },
  {
   "cell_type": "code",
   "execution_count": 42,
   "metadata": {
    "colab": {
     "base_uri": "https://localhost:8080/",
     "height": 516
    },
    "id": "SEVjFoazu8K2",
    "outputId": "50870a06-9e56-4fe3-fe7d-4301c43af568"
   },
   "outputs": [
    {
     "name": "stdout",
     "output_type": "stream",
     "text": [
      "For alpha  1  the loss =  24.176351542829263\n",
      "For alpha  1e-05  the loss =  23.19544796316378\n",
      "For alpha  0.0001291549665014884  the loss =  23.1936487641733\n",
      "For alpha  0.0016681005372000592  the loss =  23.17058766654649\n",
      "For alpha  0.021544346900318846  the loss =  22.85833326311466\n",
      "For alpha  0.2782559402207126  the loss =  21.450874232015554\n",
      "For alpha  3.593813663804626  the loss =  46.18482982932683\n",
      "For alpha  46.41588833612782  the loss =  83.71085929676252\n",
      "For alpha  599.4842503189421  the loss =  83.71085929676252\n",
      "For alpha  7742.636826811277  the loss =  83.71085929676252\n",
      "For alpha  100000.0  the loss =  83.71085929676252\n",
      "Minimum Loss\n",
      "Alpha ( 0.2782559402207126 ) has minimum loss of 21.450874232015554\n"
     ]
    },
    {
     "data": {
      "image/png": "[encoded data removed]",
      "text/plain": [
       "<Figure size 432x288 with 1 Axes>"
      ]
     },
     "metadata": {
      "needs_background": "light"
     },
     "output_type": "display_data"
    }
   ],
   "source": [
    "#For LASSO\n",
    "MSE = []\n",
    "lasso = Lasso(alpha=1).fit(n_X_train.values,train_Y)\n",
    "lasso_predict = lasso.predict(n_X_test)\n",
    "a = mean_squared_error(lasso_predict,test_Y)\n",
    "MSE.append(a)\n",
    "print(\"For alpha \",1,\" the loss = \",a)\n",
    "\n",
    "al = np.logspace(-5,5,10)\n",
    "lasso_learned_para = []\n",
    "for x in al:\n",
    "  lasso = Lasso(alpha=x).fit(n_X_train.values,train_Y)\n",
    "  lasso_predict = lasso.predict(n_X_test)\n",
    "  a = mean_squared_error(lasso_predict,test_Y)\n",
    "  MSE.append(a)\n",
    "  print(\"For alpha \",x,\" the loss = \",a)\n",
    "  lasso_learned_para.append(lasso.coef_)\n",
    "\n",
    "#Plotting regularization coefficients with learned parameters θ\n",
    "ax = pyplot.gca()\n",
    "ax.plot(np.log(al),lasso_learned_para)\n",
    "#ax.set_xscale('log')\n",
    "pyplot.xlabel('Log Alpha')\n",
    "pyplot.ylabel('Learned Parameters (θ)')\n",
    "pyplot.title('Alpha vs Learned Parameters for Lasso')\n",
    "\n",
    "#Ouput minimum loss\n",
    "min_loss = MSE[0]\n",
    "min_index = 0\n",
    "for i,x in enumerate(MSE):\n",
    "  if x<min_loss:\n",
    "    min_loss = x\n",
    "    min_index = i\n",
    "print(\"Minimum Loss\\nAlpha (\",al[min_index-1],\") has minimum loss of\",min_loss)"
   ]
  },
  {
   "cell_type": "code",
   "execution_count": 43,
   "metadata": {
    "colab": {
     "base_uri": "https://localhost:8080/"
    },
    "id": "Gj0Ho2TowgcJ",
    "outputId": "a355ed3b-03c2-483e-93cb-8eb5af1bfe2a"
   },
   "outputs": [
    {
     "name": "stdout",
     "output_type": "stream",
     "text": [
      "For alpha  1  loss =  26.906651940705334\n",
      "For alpha  0.05  loss =  22.267382828968202\n",
      "For alpha  0.1  loss =  21.869954504938292\n",
      "For alpha  0.15  loss =  21.711662490992193\n",
      "For alpha  0.17  loss =  21.692032858189787\n",
      "For alpha  0.18  loss =  21.689886799960956\n",
      "For alpha  0.19  loss =  21.69232979171205\n",
      "For alpha  0.2  loss =  21.69905989601207\n",
      "For alpha  1  loss =  26.906651940705334\n",
      "For alpha  3  loss =  42.962929943457524\n",
      "For alpha  5  loss =  56.75892225170454\n",
      "Minimum Loass\n",
      "Alpha ( 0.18 ) has minimum loss of 21.689886799960956\n"
     ]
    }
   ],
   "source": [
    "#For ElasticNet\n",
    "elastic = ElasticNet(alpha=1).fit(n_X_train,train_Y)\n",
    "elastic_predict = elastic.predict(n_X_test)\n",
    "loss = mean_squared_error(elastic_predict,test_Y) \n",
    "print(\"For alpha \",1,\" loss = \",loss)\n",
    "\n",
    "alphas=[0.05,0.1,0.15,0.17,0.18,0.19,0.2,1,3,5]\n",
    "min_loss=loss\n",
    "min_index\n",
    "for i,x in enumerate(alphas):\n",
    "  elastic = ElasticNet(alpha=x).fit(n_X_train,train_Y)\n",
    "  elastic_predict = elastic.predict(n_X_test)\n",
    "  loss = mean_squared_error(elastic_predict,test_Y)\n",
    "  if loss<min_loss:\n",
    "    min_loss=loss\n",
    "    min_index =i\n",
    "  print(\"For alpha \",x,\" loss = \",loss)\n",
    "print(\"Minimum Loass\\nAlpha (\",alphas[min_index],\") has minimum loss of\",min_loss)"
   ]
  }
 ],
 "metadata": {
  "accelerator": "GPU",
  "colab": {
   "collapsed_sections": [],
   "name": "Linear_Regression.ipynb",
   "provenance": [],
   "toc_visible": true
  },
  "kernelspec": {
   "display_name": "Python 3",
   "language": "python",
   "name": "python3"
  },
  "language_info": {
   "codemirror_mode": {
    "name": "ipython",
    "version": 3
   },
   "file_extension": ".py",
   "mimetype": "text/x-python",
   "name": "python",
   "nbconvert_exporter": "python",
   "pygments_lexer": "ipython3",
   "version": "3.8.3"
  }
 },
 "nbformat": 4,
 "nbformat_minor": 1
}
